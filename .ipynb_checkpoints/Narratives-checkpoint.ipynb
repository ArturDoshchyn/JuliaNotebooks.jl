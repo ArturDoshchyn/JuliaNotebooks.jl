{
 "cells": [
  {
   "cell_type": "markdown",
   "id": "4232a8e7-7fd4-425f-8576-18f6309e5d14",
   "metadata": {},
   "source": [
    "Here I am going to sketch the first simple version of the model, and hopefully simulate it in Julia.\n",
    "Note, the objective is to illustrate the idea, so I am going to be making some very strong assumptions to keep it as simple as possible.\n",
    "\n",
    "So, to make optimal consumption choices, households need to forecast inflation. \n",
    "\n",
    "Households can hold different views (models) on how persistent inflation is, as well as how important it is for their decisionmaking. \n",
    "\n",
    "Given their models, they make (i) information acquision and (ii) consumption choices. \n",
    "\n",
    "Why do we need models? So we have heterogeneity in how households form expectations / act given info.\n",
    "\n",
    "Why do we need information heterogeneity? Actually, this is a good question, perhaps we do not :)"
   ]
  },
  {
   "cell_type": "code",
   "execution_count": 1,
   "id": "f1b66f64-560b-4155-960f-40850046e0f1",
   "metadata": {},
   "outputs": [],
   "source": []
  },
  {
   "cell_type": "code",
   "execution_count": null,
   "id": "801267d0-ce91-47bb-94b6-8e4962d5abe3",
   "metadata": {},
   "outputs": [],
   "source": []
  }
 ],
 "metadata": {
  "kernelspec": {
   "display_name": "Julia 1.8.0",
   "language": "julia",
   "name": "julia-1.8"
  },
  "language_info": {
   "file_extension": ".jl",
   "mimetype": "application/julia",
   "name": "julia",
   "version": "1.8.0"
  }
 },
 "nbformat": 4,
 "nbformat_minor": 5
}
