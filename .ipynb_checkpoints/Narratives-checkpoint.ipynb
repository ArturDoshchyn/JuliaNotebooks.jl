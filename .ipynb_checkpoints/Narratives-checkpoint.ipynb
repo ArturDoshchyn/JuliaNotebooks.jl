{
 "cells": [
  {
   "cell_type": "markdown",
   "id": "4232a8e7-7fd4-425f-8576-18f6309e5d14",
   "metadata": {},
   "source": [
    "Here I am going to sketch the first simple version of the model, and hopefully simulate it in Julia.\n",
    "Note, the objective is to illustrate the idea, so I am going to be making some very strong assumptions to keep it as simple as possible.\n",
    "\n",
    "So, to make optimal consumption choices, households need to forecast inflation. \n",
    "\n",
    "Households can hold different views (models) on how persistent inflation is, as well as how important it is for their decisionmaking. \n",
    "\n",
    "Given their models, they make (i) information acquision and (ii) consumption choices. \n",
    "\n",
    "Why do we need models? So we have heterogeneity in how households form expectations / act given info.\n",
    "\n",
    "Why do we need information fictions? Because without it all people would react to shocks and, assuming that a median person's model is on average correct, there would be no under/overreaction to shocks. With information frictions, it is people who pay attention to inflation and tend to overreact to it that get info first, and then spread their narrative. "
   ]
  },
  {
   "cell_type": "markdown",
   "id": "d97de537-3e43-41d3-91d5-8f70c5c6992c",
   "metadata": {},
   "source": [
    "The key result we are after: natural \"newsworthiness\" bias in the narratives that get transmitted between agents. Only agents who (i) have high singnals and (ii) have models in which inflation matters sufficiently strongly (esp is sufficiently persistent) will choose to talk about it. "
   ]
  },
  {
   "cell_type": "markdown",
   "id": "fbdf80d4-d6f3-41e7-ad78-009b662f91c1",
   "metadata": {},
   "source": [
    "Following the literature (e.g. Mcaulay 2022) "
   ]
  }
 ],
 "metadata": {
  "kernelspec": {
   "display_name": "Julia 1.8.0",
   "language": "julia",
   "name": "julia-1.8"
  },
  "language_info": {
   "file_extension": ".jl",
   "mimetype": "application/julia",
   "name": "julia",
   "version": "1.8.0"
  }
 },
 "nbformat": 4,
 "nbformat_minor": 5
}
