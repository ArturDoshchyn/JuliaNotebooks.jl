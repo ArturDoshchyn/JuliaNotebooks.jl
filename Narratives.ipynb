{
 "cells": [
  {
   "cell_type": "markdown",
   "id": "4232a8e7-7fd4-425f-8576-18f6309e5d14",
   "metadata": {},
   "source": [
    "Here I am going to sketch the first simple version of the model, and hopefully simulate it in Julia.\n",
    "Note, the objective is to illustrate the idea, so I am going to be making some very strong assumptions to keep it as simple as possible.\n",
    "\n",
    "So, to make optimal consumption choices, households need to forecast inflation. \n",
    "\n",
    "Households can hold different views (models) on how persistent inflation is, as well as how important it is for their decisionmaking. \n",
    "\n",
    "Given their models, they make (i) information acquision and (ii) consumption choices. \n",
    "\n",
    "Why do we need models? So we have heterogeneity in how households form expectations / act given info.\n",
    "\n",
    "Why do we need information fictions? Because without it all people would react to shocks and, assuming that a median person's model is on average correct, there would be no under/overreaction to shocks. With information frictions, it is people who pay attention to inflation and tend to overreact to it that get info first, and then spread their narrative. "
   ]
  },
  {
   "cell_type": "markdown",
   "id": "d97de537-3e43-41d3-91d5-8f70c5c6992c",
   "metadata": {},
   "source": [
    "The key result we are after: natural \"newsworthiness\" bias in the narratives that get transmitted between agents. Only agents who (i) have high singnals and (ii) have models in which inflation matters sufficiently strongly (esp is sufficiently persistent) will choose to talk about it. "
   ]
  },
  {
   "cell_type": "markdown",
   "id": "fbdf80d4-d6f3-41e7-ad78-009b662f91c1",
   "metadata": {},
   "source": [
    "We are going to go for a simple information friction: inatentiveness ala Mankiw and Reiss. Households need to pay a fixed cost $\\kappa$ to obtain latest information on inflation $\\pi_t$. It can be shown that households pick to update their info with intervals $d$ rather than every period. $d$ becomes shorter when $\\kappa$ falls, or when inflation persistence $\\rho$ or variance $\\sigma^2$ raise. Moreover, when $\\kappa$ is sufficiently large and $\\rho$ and $\\sigma$ are sufficiently low, agents can **switch off their updating altogether**"
   ]
  },
  {
   "cell_type": "markdown",
   "id": "a6da58f5-89df-41e7-84e0-bb20be236114",
   "metadata": {},
   "source": [
    "Suppose there are only two models that agents can entertain:\n",
    "1. Low persistence model. According to this, persistence of inflation is so low that it is not worth to pay attention to it. Let's suppose this is the true model that describes the DGP.\n",
    "2. High persistence model: inflation is higly persistent. Its worth updating info every period. People who hold this model will be the most informed, but will also **overreact** to their information.\n",
    "\n",
    "The assumption above reflects the key idea: there is an inherent selection effect on who obtains information. I.e. if you care enough to follow news, you care too much!"
   ]
  },
  {
   "cell_type": "markdown",
   "id": "723df6ab-1f22-4bf0-be17-68ba93da4a29",
   "metadata": {},
   "source": [
    "Why would anyone entertain the wrong model?\n",
    "\n",
    "One reason could be robust control. If one is ambigous between two models, and highly persistent inflation has larger utility implications, it may be prudent to form expectations in line with the high persistence model.\n",
    "\n",
    "Another one is limited learning. One could suppose that there is population replacement: every period there are some newborn who believe the wrong model, ensuring that there are always some people using the wrong model, even though they eventually switch to the correct one.\n",
    "\n",
    "Another possbility: different regimes, that change infrequently. So either model is plausible.\n",
    "\n",
    "Think about this!"
   ]
  },
  {
   "cell_type": "code",
   "execution_count": null,
   "id": "9c9d3240-40ff-4f85-a5e8-101ac999226c",
   "metadata": {},
   "outputs": [],
   "source": []
  }
 ],
 "metadata": {
  "kernelspec": {
   "display_name": "Julia 1.8.2",
   "language": "julia",
   "name": "julia-1.8"
  },
  "language_info": {
   "file_extension": ".jl",
   "mimetype": "application/julia",
   "name": "julia",
   "version": "1.8.2"
  }
 },
 "nbformat": 4,
 "nbformat_minor": 5
}
